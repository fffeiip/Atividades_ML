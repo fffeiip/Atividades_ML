{
 "cells": [
  {
   "cell_type": "code",
   "execution_count": 124,
   "metadata": {},
   "outputs": [],
   "source": [
    "import os\n",
    "import random\n",
    "import numpy as np\n",
    "from scipy.spatial import distance\n",
    "import matplotlib.pyplot as plt"
   ]
  },
  {
   "cell_type": "markdown",
   "metadata": {},
   "source": [
    "## Inicialização de workspace"
   ]
  },
  {
   "cell_type": "code",
   "execution_count": 2,
   "metadata": {},
   "outputs": [],
   "source": [
    "current_working_directory = os.getcwd()\n",
    "datasets_folder = f'{current_working_directory}/datasets'"
   ]
  },
  {
   "cell_type": "code",
   "execution_count": 118,
   "metadata": {},
   "outputs": [],
   "source": [
    "def knn(dataset, k):\n",
    "    knn = []\n",
    "    for a in range(len(dataset)):\n",
    "        for b in range(len(dataset)):\n",
    "            if a != b:\n",
    "                iris_data_a = dataset[a]['np_data']\n",
    "                iris_data_b = dataset[b]['np_data']\n",
    "                distancia = distance.euclidean(iris_data_a,iris_data_b)\n",
    "                knn.append({\n",
    "                    'distancia': distancia,\n",
    "                    'classe_a': dataset[a]['class'],\n",
    "                    'classe_b': dataset[b]['class']\n",
    "                })\n",
    "    knn.sort(key = lambda x:x['distancia'])\n",
    "    return knn[:k]"
   ]
  },
  {
   "cell_type": "markdown",
   "metadata": {},
   "source": [
    "## Iris Dataset"
   ]
  },
  {
   "cell_type": "code",
   "execution_count": 8,
   "metadata": {},
   "outputs": [],
   "source": [
    "with open(f'{datasets_folder}/iris/iris.data') as iris_data:\n",
    "    iris_file = iris_data.read().split('\\n')[:-2]"
   ]
  },
  {
   "cell_type": "code",
   "execution_count": 9,
   "metadata": {},
   "outputs": [
    {
     "name": "stdout",
     "output_type": "stream",
     "text": [
      "{'Iris-setosa': 1, 'Iris-versicolor': 2, 'Iris-virginica': 3}\n",
      "{'np_data': array([5.1, 3.5, 1.4, 0.2]), 'class': 1}\n"
     ]
    }
   ],
   "source": [
    "iris_classes = {}\n",
    "classification = 1\n",
    "iris_dataset= []\n",
    "for row in iris_file:\n",
    "    current_row = row.split(',')\n",
    "    name = current_row[-1]\n",
    "    if name not in iris_classes:\n",
    "        iris_classes[name] = classification\n",
    "        classification += 1\n",
    "    np_data = np.array(current_row[:-1]).astype(np.float)\n",
    "    iris_dataset.append({\n",
    "        'np_data': np_data,\n",
    "        'class': iris_classes[name]\n",
    "    })\n",
    "            \n",
    "print(iris_classes)\n",
    "print(iris_dataset[0])"
   ]
  },
  {
   "cell_type": "code",
   "execution_count": 37,
   "metadata": {},
   "outputs": [],
   "source": [
    "def chunk_data(dataset, n = 10):\n",
    "    random.shuffle(dataset)\n",
    "    dataset_chunked = []\n",
    "    chunk_size = len(dataset)//n\n",
    "    for i in range(n):\n",
    "        start = i*chunk_size\n",
    "        end = (i+1)*chunk_size\n",
    "        dataset_chunked.append(iris_dataset[start:end])\n",
    "    return dataset_chunked"
   ]
  },
  {
   "cell_type": "code",
   "execution_count": 92,
   "metadata": {},
   "outputs": [],
   "source": [
    "def calcula_acuracia(conjunto):\n",
    "    acertos = 0\n",
    "    for x in conjunto:\n",
    "        if x['classe_a'] == x['classe_b']:\n",
    "            acertos +=1\n",
    "    return (float)(acertos*100)/len(conjunto)"
   ]
  },
  {
   "cell_type": "code",
   "execution_count": null,
   "metadata": {},
   "outputs": [],
   "source": [
    "def cross_validation(dataset):    \n",
    "    validation = []\n",
    "    chunked_data = chunk_data(dataset)\n",
    "    for k in [3,5,7,9,15]:\n",
    "        acuracias = []\n",
    "        for chunk in chunked_data:\n",
    "            k_vizinhos = knn(chunk, k)\n",
    "            acuracias.append(calcula_acuracia(k_vizinhos))\n",
    "        validation.append({\n",
    "#                 'accuracias': acuracias,\n",
    "                'k_value': k,\n",
    "                'media': np.mean(acuracias),\n",
    "                'mediana': np.median(acuracias),\n",
    "                'desvio_padrao': np.std(acuracias)\n",
    "            })\n",
    "    return validation\n"
   ]
  },
  {
   "cell_type": "code",
   "execution_count": 180,
   "metadata": {},
   "outputs": [
    {
     "data": {
      "image/png": "[encoded data removed]",
      "text/plain": [
       "<Figure size 432x288 with 1 Axes>"
      ]
     },
     "metadata": {
      "needs_background": "light"
     },
     "output_type": "display_data"
    },
    {
     "data": {
      "image/png": "[encoded data removed]",
      "text/plain": [
       "<Figure size 432x288 with 1 Axes>"
      ]
     },
     "metadata": {
      "needs_background": "light"
     },
     "output_type": "display_data"
    }
   ],
   "source": [
    "acuracias = cross_validation(iris_dataset)\n",
    "k_values = ['3','5','7','9','15']\n",
    "retira_medias =  lambda x:x['media']\n",
    "retira_mediana =  lambda x:x['mediana']\n",
    "retira_desvio_padrao =  lambda x:x['desvio_padrao']\n",
    "\n",
    "medias = [retira_medias(x) for x in acuracias ]\n",
    "\n",
    "desvio_padrao = [retira_desvio_padrao(x) for x in acuracias ]\n",
    "\n",
    "mediana = [retira_mediana(x) for x in acuracias ]\n",
    "\n",
    "plt.plot(k_values, medias,'r--',k_values, mediana)\n",
    "plt.xlabel('Valor de K para KNN')\n",
    "plt.ylabel('Acurácia média')\n",
    "plt.show()\n",
    "\n",
    "plt.plot(k_values, desvio_padrao)\n",
    "plt.xlabel('Valor de K para KNN')\n",
    "plt.ylabel('Desvio Padrão')\n",
    "plt.show()\n"
   ]
  }
 ],
 "metadata": {
  "kernelspec": {
   "display_name": "Python 3",
   "language": "python",
   "name": "python3"
  },
  "language_info": {
   "codemirror_mode": {
    "name": "ipython",
    "version": 3
   },
   "file_extension": ".py",
   "mimetype": "text/x-python",
   "name": "python",
   "nbconvert_exporter": "python",
   "pygments_lexer": "ipython3",
   "version": "3.8.2"
  }
 },
 "nbformat": 4,
 "nbformat_minor": 4
}
